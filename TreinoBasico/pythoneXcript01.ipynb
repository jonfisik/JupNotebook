{
 "cells": [
  {
   "cell_type": "code",
   "execution_count": null,
   "metadata": {},
   "outputs": [],
   "source": [
    "#-*- coding: uft-8 -*-"
   ]
  },
  {
   "cell_type": "code",
   "execution_count": null,
   "metadata": {
    "tags": []
   },
   "outputs": [],
   "source": [
    "print(\"Olá mundo !!!\") #Fugindo da maldição"
   ]
  },
  {
   "cell_type": "code",
   "execution_count": null,
   "metadata": {
    "tags": []
   },
   "outputs": [],
   "source": [
    "print(\"Treinando python\")#Comando de saída"
   ]
  },
  {
   "cell_type": "code",
   "execution_count": null,
   "metadata": {
    "tags": []
   },
   "outputs": [],
   "source": [
    "print(\"oi\");print(\"tchau\");"
   ]
  },
  {
   "cell_type": "code",
   "execution_count": null,
   "metadata": {},
   "outputs": [],
   "source": [
    "p=10 #Atribuição"
   ]
  },
  {
   "cell_type": "code",
   "execution_count": null,
   "metadata": {},
   "outputs": [],
   "source": [
    "p"
   ]
  },
  {
   "cell_type": "code",
   "execution_count": null,
   "metadata": {},
   "outputs": [],
   "source": [
    "a=2"
   ]
  },
  {
   "cell_type": "code",
   "execution_count": null,
   "metadata": {},
   "outputs": [],
   "source": [
    "p+a"
   ]
  },
  {
   "cell_type": "code",
   "execution_count": null,
   "metadata": {
    "tags": []
   },
   "outputs": [],
   "source": [
    "print(p+a)"
   ]
  },
  {
   "cell_type": "code",
   "execution_count": null,
   "metadata": {},
   "outputs": [],
   "source": [
    "type(a) #Mostra o tipo da variável, função etc..."
   ]
  },
  {
   "cell_type": "code",
   "execution_count": null,
   "metadata": {
    "scrolled": true
   },
   "outputs": [],
   "source": [
    "dir(print) #Mostra as funções dentro da biblioteca"
   ]
  },
  {
   "cell_type": "code",
   "execution_count": null,
   "metadata": {},
   "outputs": [],
   "source": [
    "num_int=5\n",
    "num_dec=7.3\n",
    "val_str=\"qualquer texto\""
   ]
  },
  {
   "cell_type": "code",
   "execution_count": null,
   "metadata": {
    "tags": []
   },
   "outputs": [],
   "source": [
    "print(\"O valor é:\",num_int) #Tipos de concatenação\n",
    "print(\"O valor é: %i\" %num_int)\n",
    "print(\"O valor é: \" + str(num_int)) "
   ]
  },
  {
   "cell_type": "code",
   "execution_count": null,
   "metadata": {
    "tags": []
   },
   "outputs": [],
   "source": [
    "print(\"Concatenando decimal:\", num_dec)\n",
    "print(\"Concatenando decimal: %.10f\" %num_dec)\n",
    "print(\"Concatenando decimal: \" + str(num_dec))"
   ]
  },
  {
   "cell_type": "code",
   "execution_count": null,
   "metadata": {
    "tags": []
   },
   "outputs": [],
   "source": [
    "print(\"Concatenando string\", val_str)\n",
    "print(\"Concatenando string %s\" %val_str)\n",
    "print(\"Concatenando string \" + str(val_str))"
   ]
  },
  {
   "cell_type": "code",
   "execution_count": null,
   "metadata": {},
   "outputs": [],
   "source": [
    "login = input(\"Login: \") #Comando de entrada\n",
    "senha = input(\"Senha: \")"
   ]
  },
  {
   "cell_type": "code",
   "execution_count": null,
   "metadata": {
    "tags": []
   },
   "outputs": [],
   "source": [
    "print(\"O usuário informado foi: %s, e a senha digitada foi: %s\" %(login,senha))"
   ]
  },
  {
   "cell_type": "code",
   "execution_count": null,
   "metadata": {},
   "outputs": [],
   "source": [
    "#-----------------------------------------------"
   ]
  },
  {
   "cell_type": "code",
   "execution_count": null,
   "metadata": {
    "tags": []
   },
   "outputs": [],
   "source": [
    "num1 = float(input(\"Digite um número: \"))\n",
    "print()\n",
    "num2 = float(input(\"Digite outro número: \"))"
   ]
  },
  {
   "cell_type": "code",
   "execution_count": null,
   "metadata": {},
   "outputs": [],
   "source": [
    "div = num1/num2 #Divisão com saída float\n",
    "resto = num1%num2 #Resto divisão"
   ]
  },
  {
   "cell_type": "code",
   "execution_count": null,
   "metadata": {
    "tags": []
   },
   "outputs": [],
   "source": [
    "print(num1, \"dividido por\", num2, \"é igual a:\",div)\n",
    "print(\"O resto da divisão entre\", num1, \"e\", num2, \"é\", resto)"
   ]
  },
  {
   "cell_type": "code",
   "execution_count": null,
   "metadata": {},
   "outputs": [],
   "source": [
    "#----------------------------------------------"
   ]
  },
  {
   "cell_type": "code",
   "execution_count": null,
   "metadata": {},
   "outputs": [],
   "source": [
    "import math #Biblioteca matemática"
   ]
  },
  {
   "cell_type": "code",
   "execution_count": null,
   "metadata": {},
   "outputs": [],
   "source": [
    "math.pi"
   ]
  },
  {
   "cell_type": "code",
   "execution_count": null,
   "metadata": {},
   "outputs": [],
   "source": [
    "dir(math)"
   ]
  },
  {
   "cell_type": "code",
   "execution_count": null,
   "metadata": {},
   "outputs": [],
   "source": [
    "#--------------TOMADA DE DECISÃO----------------------------"
   ]
  },
  {
   "cell_type": "code",
   "execution_count": null,
   "metadata": {},
   "outputs": [],
   "source": [
    "x=int(input(\"Digite um número inteiro: \"))"
   ]
  },
  {
   "cell_type": "code",
   "execution_count": null,
   "metadata": {
    "tags": []
   },
   "outputs": [],
   "source": [
    "if (x<=10):\n",
    "    print(x, \"É menor ou igual a 10!\")\n",
    "else:\n",
    "    print(x, \"É maior que 10!\")"
   ]
  },
  {
   "cell_type": "code",
   "execution_count": null,
   "metadata": {},
   "outputs": [],
   "source": [
    "#--------------TOMADA DE DECISÃO----------------------------"
   ]
  },
  {
   "cell_type": "code",
   "execution_count": null,
   "metadata": {
    "tags": []
   },
   "outputs": [],
   "source": [
    "num = int(input(\"Digite um numero: \"))\n",
    "if (num % 2 == 0):\n",
    "    print(\"Numero e PAR\")\n",
    "else:\n",
    "    print(\"Numero e IMPAR\")"
   ]
  },
  {
   "cell_type": "code",
   "execution_count": null,
   "metadata": {},
   "outputs": [],
   "source": [
    "#--------------TOMADA DE DECISÃO----------------------------"
   ]
  },
  {
   "cell_type": "code",
   "execution_count": null,
   "metadata": {},
   "outputs": [],
   "source": [
    "acao = int(input(\"Digite '1' para 'sim' e '2' para 'não':\"))"
   ]
  },
  {
   "cell_type": "code",
   "execution_count": null,
   "metadata": {
    "tags": []
   },
   "outputs": [],
   "source": [
    "if(acao==1):\n",
    "    print(\"Você disse sim!\")\n",
    "else:\n",
    "    if(acao==2):\n",
    "        print(\"Você disse não!\")\n",
    "    else:\n",
    "        print(\"O número digitado não é '1' e nem '2'!!!\")"
   ]
  },
  {
   "cell_type": "code",
   "execution_count": null,
   "metadata": {},
   "outputs": [],
   "source": [
    "#------------Operadores comparativos----------------"
   ]
  },
  {
   "cell_type": "code",
   "execution_count": null,
   "metadata": {},
   "outputs": [],
   "source": [
    "idade=int(input(\"Informe sua idade: \"))"
   ]
  },
  {
   "cell_type": "code",
   "execution_count": null,
   "metadata": {
    "tags": []
   },
   "outputs": [],
   "source": [
    "if(idade <=0):\n",
    "    print(\"Sua idade não pode ser zero ou menor do que zero!\")\n",
    "else:\n",
    "    if(idade > 150):\n",
    "        print(\"Sua idade não pode ser superior a 150 anos!\")\n",
    "    else:\n",
    "        if(idade < 18):\n",
    "            print(\"Você precisa ter mais do que 18 anos!\")\n",
    "        else:\n",
    "            print(\"Você já possui a maior idade!\")"
   ]
  },
  {
   "cell_type": "code",
   "execution_count": null,
   "metadata": {},
   "outputs": [],
   "source": [
    "#-------------------Prática operadores comparativos------"
   ]
  },
  {
   "cell_type": "code",
   "execution_count": null,
   "metadata": {
    "tags": []
   },
   "outputs": [],
   "source": [
    "numero1 = input(\"Digite um número: \")\n",
    "numero1 = int(numero1)\n",
    "print(\"---------------------------------------------------\")\n",
    "numero2 = input(\"Digite outro número: \")\n",
    "numero2 = int(numero2)"
   ]
  },
  {
   "cell_type": "code",
   "execution_count": null,
   "metadata": {
    "tags": []
   },
   "outputs": [],
   "source": [
    "if(numero1 == numero2):#operador de igualdade\n",
    "    print(\"O número %d é igual a %d.\"%(numero1,numero2))\n",
    "if(numero1 != numero2):#operador diferença\n",
    "    print(\"O número %d é diferente de %d.\"%(numero1,numero2))\n",
    "if (numero1 < numero2):#operador menor que\n",
    "    print(\"O número %d é menor que %d\"%(numero1,numero2))\n",
    "if (numero1 > numero2):#operador maior que\n",
    "    print(\"O número %d é maior que %d\"%(numero1,numero2))\n",
    "if (numero1 >= numero2):#operador maior ou igual que\n",
    "    print(\"O número %d é maior ou igual que %d\"%(numero1,numero2))\n",
    "if (numero1 <= numero2):#operador menor ou igual que\n",
    "    print(\"O número %d é menor ou igual que %d\"%(numero1,numero2))"
   ]
  },
  {
   "cell_type": "code",
   "execution_count": null,
   "metadata": {},
   "outputs": [],
   "source": [
    "#--------------------Operadores lógicos---------------------------------"
   ]
  },
  {
   "cell_type": "code",
   "execution_count": null,
   "metadata": {
    "tags": []
   },
   "outputs": [],
   "source": [
    "print(\"---------------------------------\")\n",
    "print(\"    True and True -> True\")\n",
    "print(\"    True and False -> False\")\n",
    "print(\"    False and False -> False\")\n",
    "print(\"    False and True -> False\")\n",
    "print(\"---------------------------------\")"
   ]
  },
  {
   "cell_type": "code",
   "execution_count": null,
   "metadata": {},
   "outputs": [],
   "source": [
    "a = int(input(\"1 - Escreva 'zero' ou 'um' para verdadeiro ou falso: \")) #verificar algoritimo para tabela verdade\n",
    "b = int(input(\"2 - Escreva 'zero' ou 'um' para verdadeiro ou falso: \"))"
   ]
  },
  {
   "cell_type": "code",
   "execution_count": null,
   "metadata": {
    "tags": []
   },
   "outputs": [],
   "source": [
    "if (a == 1 and b == 1):\n",
    "    print(\"VERDADEIRO\")\n",
    "else:\n",
    "    print(\"FALSO\")"
   ]
  },
  {
   "cell_type": "code",
   "execution_count": null,
   "metadata": {
    "tags": []
   },
   "outputs": [],
   "source": [
    "print(\"---------------------------------\")\n",
    "print(\"    True or True -> True\")\n",
    "print(\"    True or False -> True\")\n",
    "print(\"    False or False -> False\")\n",
    "print(\"    False or True -> True\")\n",
    "print(\"---------------------------------\")"
   ]
  },
  {
   "cell_type": "code",
   "execution_count": null,
   "metadata": {
    "tags": []
   },
   "outputs": [],
   "source": [
    "if (a == 0 and b == 1) or (a == 1 and b == 0):\n",
    "    print(\"FALSO\")\n",
    "else:\n",
    "    print(\"VERDADEIRO\")"
   ]
  },
  {
   "cell_type": "code",
   "execution_count": null,
   "metadata": {},
   "outputs": [],
   "source": [
    "#-------------Atribuição----------------------------------"
   ]
  },
  {
   "cell_type": "code",
   "execution_count": null,
   "metadata": {},
   "outputs": [],
   "source": [
    "a = int(input(\"Digite um valor inteiro: \"))\n",
    "b = a #O valor da esquerda recebe o valor da direita"
   ]
  },
  {
   "cell_type": "code",
   "execution_count": null,
   "metadata": {
    "tags": []
   },
   "outputs": [],
   "source": [
    "print(b,'e',a)"
   ]
  },
  {
   "cell_type": "code",
   "execution_count": null,
   "metadata": {
    "tags": []
   },
   "outputs": [],
   "source": [
    "x = y = z = b #atribuição\n",
    "print(x,\",\",y,\",\",z)"
   ]
  },
  {
   "cell_type": "code",
   "execution_count": null,
   "metadata": {
    "tags": []
   },
   "outputs": [],
   "source": [
    "c = x == y == z # A variável c é do tipo boolena e recebe as igualdades(comparações) das variáveis x, y  e z.\n",
    "print(type(c))"
   ]
  },
  {
   "cell_type": "code",
   "execution_count": null,
   "metadata": {},
   "outputs": [],
   "source": [
    "#-----------------Atribuição (múltipla)--------------------"
   ]
  },
  {
   "cell_type": "code",
   "execution_count": null,
   "metadata": {
    "tags": []
   },
   "outputs": [],
   "source": [
    "s1, s2 = \"Curso de\",\"Python!!!\"\n",
    "print(s1,s2)"
   ]
  },
  {
   "cell_type": "code",
   "execution_count": null,
   "metadata": {
    "tags": []
   },
   "outputs": [],
   "source": [
    "r,s,t = 2,4,8\n",
    "print(r,\",\",s,\",\",t)"
   ]
  },
  {
   "cell_type": "code",
   "execution_count": null,
   "metadata": {
    "tags": []
   },
   "outputs": [],
   "source": [
    "r,s,t = r*2,r+s+t,r*s*t # na atribuição múltipla o python resolve operações matemáticas\n",
    "print(r,\",\",s,\",\",t)"
   ]
  },
  {
   "cell_type": "code",
   "execution_count": null,
   "metadata": {},
   "outputs": [],
   "source": [
    "#----------------Operadores de atribuição-------------------\n",
    "# x +=2 -> soma 2 a x\n",
    "# x -=2 -> subtrai 2 de x\n",
    "# x *=2 -> multiplica 2 por x\n",
    "# x /=2 -> divide x por 2\n",
    "# x %=2 -> volta o resto da divisão de x por 2\n",
    "#-----------------------------------------------------------"
   ]
  },
  {
   "cell_type": "code",
   "execution_count": null,
   "metadata": {},
   "outputs": [],
   "source": [
    "#--------------Atribuição condicional-----------------------"
   ]
  },
  {
   "cell_type": "code",
   "execution_count": null,
   "metadata": {
    "scrolled": false,
    "tags": []
   },
   "outputs": [],
   "source": [
    "q = int(input(\"Digite um número: \"))\n",
    "texto = \"Sim!!!\" if q == 10 else \"Não!!!\"\n",
    "print(texto)"
   ]
  },
  {
   "cell_type": "code",
   "execution_count": null,
   "metadata": {},
   "outputs": [],
   "source": [
    "#-----------------par ou ímpar------------------------------"
   ]
  },
  {
   "cell_type": "code",
   "execution_count": null,
   "metadata": {
    "tags": []
   },
   "outputs": [],
   "source": [
    "num1 = int(input(\"Digite um número: \"))\n",
    "s = \"Par.\" if num1 %2 == 0 else \"Ímpar.\"\n",
    "print(\"O número digitado é,\", s)"
   ]
  },
  {
   "cell_type": "code",
   "execution_count": null,
   "metadata": {},
   "outputs": [],
   "source": [
    "#------Iteração, laços condicionais e looping--------------"
   ]
  },
  {
   "cell_type": "code",
   "execution_count": null,
   "metadata": {
    "tags": []
   },
   "outputs": [],
   "source": [
    "x = 0\n",
    "while(x <= 5): #o bloco de instrução será repetido enquanto a condição for verdadeira\n",
    "    print(x)\n",
    "    x += 1"
   ]
  },
  {
   "cell_type": "code",
   "execution_count": null,
   "metadata": {},
   "outputs": [],
   "source": [
    "#-------------------------------------------------------"
   ]
  },
  {
   "cell_type": "code",
   "execution_count": null,
   "metadata": {},
   "outputs": [],
   "source": [
    "range(0,10,2)# gerador de lista range(início,fim,passo)\n",
    "type(range(0,10,2))"
   ]
  },
  {
   "cell_type": "code",
   "execution_count": null,
   "metadata": {},
   "outputs": [],
   "source": [
    "list(range(0,10,2))#no python 3 é preciso converter para lista"
   ]
  },
  {
   "cell_type": "code",
   "execution_count": null,
   "metadata": {},
   "outputs": [],
   "source": [
    "list(range(100,0,-3))#passo negativo ->ordem decrescente"
   ]
  },
  {
   "cell_type": "code",
   "execution_count": null,
   "metadata": {
    "tags": []
   },
   "outputs": [],
   "source": [
    "for i in range(10):#iteração com range\n",
    "    print (i)"
   ]
  },
  {
   "cell_type": "code",
   "execution_count": null,
   "metadata": {
    "tags": []
   },
   "outputs": [],
   "source": [
    "for i in range(-10,0,1): #valores negativos\n",
    "    print(i)"
   ]
  },
  {
   "cell_type": "code",
   "execution_count": null,
   "metadata": {
    "tags": []
   },
   "outputs": [],
   "source": [
    "print(\"Antes do laço.\")\n",
    "for item in range(10):\n",
    "    print(item)\n",
    "    if(item==6):\n",
    "        break #break interronpe a execução de um laço de repetição.\n",
    "print(\"Depois do laço.\")"
   ]
  },
  {
   "cell_type": "code",
   "execution_count": null,
   "metadata": {},
   "outputs": [],
   "source": [
    "#--------------Estrutura de dados lista---------------------"
   ]
  },
  {
   "cell_type": "code",
   "execution_count": null,
   "metadata": {},
   "outputs": [],
   "source": [
    "lista = [1,2,3,4,5,6,7,8]"
   ]
  },
  {
   "cell_type": "code",
   "execution_count": null,
   "metadata": {
    "tags": []
   },
   "outputs": [],
   "source": [
    "print(lista)"
   ]
  },
  {
   "cell_type": "code",
   "execution_count": null,
   "metadata": {},
   "outputs": [],
   "source": [
    "type([])#lista definida por colchete, []-> lista vazia"
   ]
  },
  {
   "cell_type": "code",
   "execution_count": null,
   "metadata": {},
   "outputs": [],
   "source": [
    "x = [\"Jonatan\", 3, \"Amanda\"]#lista admite elementos de varios tipo"
   ]
  },
  {
   "cell_type": "code",
   "execution_count": null,
   "metadata": {
    "tags": []
   },
   "outputs": [],
   "source": [
    "print(x)"
   ]
  },
  {
   "cell_type": "code",
   "execution_count": null,
   "metadata": {},
   "outputs": [],
   "source": [
    "x[1]#[endereço do elemento] indica a posição do elemento na lista, a contagem começa com o indice 0"
   ]
  },
  {
   "cell_type": "code",
   "execution_count": null,
   "metadata": {},
   "outputs": [],
   "source": [
    "lista1 = list(\"Jonatan\")# objeto interável, o python entende a palavra como uma lista"
   ]
  },
  {
   "cell_type": "code",
   "execution_count": null,
   "metadata": {
    "tags": []
   },
   "outputs": [],
   "source": [
    "print(lista1)"
   ]
  },
  {
   "cell_type": "code",
   "execution_count": null,
   "metadata": {},
   "outputs": [],
   "source": [
    "lista2 = list((\"Jonatan\",))#lista com um elemento"
   ]
  },
  {
   "cell_type": "code",
   "execution_count": null,
   "metadata": {
    "tags": []
   },
   "outputs": [],
   "source": [
    "print(lista2)"
   ]
  },
  {
   "cell_type": "code",
   "execution_count": null,
   "metadata": {},
   "outputs": [],
   "source": [
    "#-----------lista e sub lista--------------------------"
   ]
  },
  {
   "cell_type": "code",
   "execution_count": null,
   "metadata": {},
   "outputs": [],
   "source": [
    "sublista = [[\"Jonatan\", \"Amanda\", \"Maria\"], [1,2,3], []]#listas em pyhton adimite listas dentro de lista"
   ]
  },
  {
   "cell_type": "code",
   "execution_count": null,
   "metadata": {},
   "outputs": [],
   "source": [
    "sublista[0][1]#acessa elementos da sub sublista"
   ]
  },
  {
   "cell_type": "code",
   "execution_count": null,
   "metadata": {
    "tags": []
   },
   "outputs": [],
   "source": [
    "print(sublista[0][1])"
   ]
  },
  {
   "cell_type": "code",
   "execution_count": null,
   "metadata": {},
   "outputs": [],
   "source": [
    "len(\"Jonatan\")#len(objeto) compriento da lista"
   ]
  },
  {
   "cell_type": "code",
   "execution_count": null,
   "metadata": {},
   "outputs": [],
   "source": [
    "sublista[len(sublista)-1]#mostra o último elemento da lista"
   ]
  },
  {
   "cell_type": "code",
   "execution_count": null,
   "metadata": {},
   "outputs": [],
   "source": [
    "sublista = sublista + [6]#adiciona elemento no final da lista"
   ]
  },
  {
   "cell_type": "code",
   "execution_count": null,
   "metadata": {},
   "outputs": [],
   "source": [
    "sublista"
   ]
  },
  {
   "cell_type": "code",
   "execution_count": null,
   "metadata": {},
   "outputs": [],
   "source": [
    "sublista = [0] + sublista#adiciona elemento no início da lista"
   ]
  },
  {
   "cell_type": "code",
   "execution_count": null,
   "metadata": {},
   "outputs": [],
   "source": [
    "sublista"
   ]
  },
  {
   "cell_type": "code",
   "execution_count": null,
   "metadata": {},
   "outputs": [],
   "source": [
    "sublista = sublista + [7,8,9,10]#adiciona vários elementos a lista"
   ]
  },
  {
   "cell_type": "code",
   "execution_count": null,
   "metadata": {},
   "outputs": [],
   "source": [
    "sublista"
   ]
  },
  {
   "cell_type": "code",
   "execution_count": null,
   "metadata": {},
   "outputs": [],
   "source": [
    "sublista.append(11)#nome_da_lista.append(elemento) adiciona um elemento a lista"
   ]
  },
  {
   "cell_type": "code",
   "execution_count": null,
   "metadata": {},
   "outputs": [],
   "source": [
    "sublista"
   ]
  },
  {
   "cell_type": "code",
   "execution_count": null,
   "metadata": {},
   "outputs": [],
   "source": [
    "del(sublista[-1])#deleta o elemento da lista(no caso o ultimo)"
   ]
  },
  {
   "cell_type": "code",
   "execution_count": null,
   "metadata": {},
   "outputs": [],
   "source": [
    "sublista"
   ]
  },
  {
   "cell_type": "code",
   "execution_count": null,
   "metadata": {},
   "outputs": [],
   "source": [
    "10*[0]#adiciona elementos do mesmo tipo a uma lista"
   ]
  },
  {
   "cell_type": "code",
   "execution_count": null,
   "metadata": {},
   "outputs": [],
   "source": [
    "traco = 50*\"-\""
   ]
  },
  {
   "cell_type": "code",
   "execution_count": null,
   "metadata": {},
   "outputs": [],
   "source": [
    "traco"
   ]
  },
  {
   "cell_type": "code",
   "execution_count": null,
   "metadata": {},
   "outputs": [],
   "source": [
    " #-------------Iterando listas----------------"
   ]
  },
  {
   "cell_type": "code",
   "execution_count": null,
   "metadata": {},
   "outputs": [],
   "source": [
    "lista_nums = [100,200,300,400,500,600]\n",
    "for item in lista_nums:\n",
    "    print(item)"
   ]
  },
  {
   "cell_type": "code",
   "execution_count": null,
   "metadata": {
    "tags": []
   },
   "outputs": [],
   "source": [
    "a = int(input(\"Digite o número A: \"))\n",
    "b = int(input(\"Digite o número B: \"))\n",
    "c = int(input(\"Digite o número c: \"))\n",
    "d = int(input(\"Digite o número D: \"))\n",
    "e = int(input(\"Digite o número E: \"))\n",
    "f = int(input(\"Digite o número F: \"))\n",
    "lista_nums = [a,b,c,d,e,f]\n",
    "for item in lista_nums:\n",
    "    print(item)"
   ]
  },
  {
   "cell_type": "code",
   "execution_count": null,
   "metadata": {
    "tags": []
   },
   "outputs": [],
   "source": [
    "lista_nums = [100,200,300,400]\n",
    "lista_indice = range(0,4) # função range gera lista (0,1,2,3)\n",
    "for item in lista_indice:\n",
    "    lista_nums [item] +=1000 \n",
    "print (lista_nums)"
   ]
  },
  {
   "cell_type": "code",
   "execution_count": null,
   "metadata": {},
   "outputs": [],
   "source": [
    "lista_nums = [100,200,300,400]\n",
    "for item in range(4):# função range gera lista (0,1,2,3) \n",
    "    lista_nums [item] +=1000 \n",
    "print (lista_nums)"
   ]
  },
  {
   "cell_type": "code",
   "execution_count": null,
   "metadata": {},
   "outputs": [],
   "source": [
    "lista_nums = [100,200,300,400,500,600,700,800]\n",
    "for item in range(len(lista_nums)):#função len confere todos elementos da lista\n",
    "    lista_nums [item] +=1000\n",
    "print(lista_nums)"
   ]
  },
  {
   "cell_type": "code",
   "execution_count": null,
   "metadata": {},
   "outputs": [],
   "source": [
    "lista_nums = [100,200,300,400,500,600,700,800]\n",
    "for idx, item in enumerate(lista_nums):#função enumerate associa um indice a cada elemento da lista\n",
    "    lista_nums [idx] +=1000\n",
    "print(lista_nums)"
   ]
  },
  {
   "cell_type": "code",
   "execution_count": null,
   "metadata": {},
   "outputs": [],
   "source": [
    "#-----------FATIANDO LISTA----------------------------"
   ]
  },
  {
   "cell_type": "code",
   "execution_count": null,
   "metadata": {},
   "outputs": [],
   "source": [
    "lista = \"PYTHON\"\n",
    "print(lista)"
   ]
  },
  {
   "cell_type": "code",
   "execution_count": null,
   "metadata": {},
   "outputs": [],
   "source": [
    "print(\"--\",lista[0],\"--\")\n",
    "print(\"--\",lista[:2],\"--\")\n",
    "print(\"--\",lista[2:],\"--\")\n",
    "print(\"--\",lista[::2],\"--\")\n",
    "print(\"--\",lista[2::2],\"--\")\n",
    "print(\"--\",lista[::-1],\"--\")"
   ]
  },
  {
   "cell_type": "code",
   "execution_count": null,
   "metadata": {},
   "outputs": [],
   "source": [
    "#-----------------------------------------------------------"
   ]
  },
  {
   "cell_type": "code",
   "execution_count": null,
   "metadata": {},
   "outputs": [],
   "source": [
    "lista =list(input(\"Digite uma palavras ou frase: \"))\n",
    "print(40*\"--\")\n",
    "print(lista)\n",
    "print(40*\"--\")\n",
    "print(\"A lista digitada contêm \", len(lista),\"elementos.\")\n",
    "print(40*\"--\")"
   ]
  },
  {
   "cell_type": "code",
   "execution_count": null,
   "metadata": {},
   "outputs": [],
   "source": [
    "star = int(input(\"Digite o início da fatia: \"))\n",
    "stop = int(input(\"Digite o fim da fatia: \"))\n",
    "step = int(input(\"Digite tamanho da fatia: \")) #o passo não pode ser zero, mas pode ser negativo\n",
    "print(lista[star:stop:step])"
   ]
  },
  {
   "cell_type": "code",
   "execution_count": null,
   "metadata": {},
   "outputs": [],
   "source": [
    "#---------------------Incluir e deletar itens a uma lista-----------------------------"
   ]
  },
  {
   "cell_type": "code",
   "execution_count": null,
   "metadata": {},
   "outputs": [],
   "source": [
    "l = ['bbb','ccc','ddd']#definição da lista"
   ]
  },
  {
   "cell_type": "code",
   "execution_count": null,
   "metadata": {},
   "outputs": [],
   "source": [
    "l.append('eee') #acrescenta itens no final da lista"
   ]
  },
  {
   "cell_type": "code",
   "execution_count": null,
   "metadata": {},
   "outputs": [],
   "source": [
    "l #chama lista"
   ]
  },
  {
   "cell_type": "code",
   "execution_count": null,
   "metadata": {},
   "outputs": [],
   "source": [
    "l.insert(0,'aaa')#insere item na posição indicada"
   ]
  },
  {
   "cell_type": "code",
   "execution_count": null,
   "metadata": {},
   "outputs": [],
   "source": [
    "l #chama lista"
   ]
  },
  {
   "cell_type": "code",
   "execution_count": null,
   "metadata": {},
   "outputs": [],
   "source": [
    "l[1] = 'BBB' #altera elemento da lista"
   ]
  },
  {
   "cell_type": "code",
   "execution_count": null,
   "metadata": {},
   "outputs": [],
   "source": [
    "l #chama lista"
   ]
  },
  {
   "cell_type": "code",
   "execution_count": null,
   "metadata": {},
   "outputs": [],
   "source": [
    "l.clear() #limpa toda lista"
   ]
  },
  {
   "cell_type": "code",
   "execution_count": null,
   "metadata": {},
   "outputs": [],
   "source": [
    "l #chama lista"
   ]
  },
  {
   "cell_type": "code",
   "execution_count": null,
   "metadata": {},
   "outputs": [],
   "source": [
    "l = ['AAA','BBB','CCC','DDD','EEE','FFF','GGG','HHH','III','JJJ']"
   ]
  },
  {
   "cell_type": "code",
   "execution_count": null,
   "metadata": {},
   "outputs": [],
   "source": [
    "l.pop()#elimina por padrão o ultimo item da lista e, mostra item deletado; l.pop(posição elemento)"
   ]
  },
  {
   "cell_type": "code",
   "execution_count": null,
   "metadata": {},
   "outputs": [],
   "source": [
    "del(l[2:4])#elimina o intervalo indicado"
   ]
  },
  {
   "cell_type": "code",
   "execution_count": null,
   "metadata": {},
   "outputs": [],
   "source": [
    "l #chama lista"
   ]
  },
  {
   "cell_type": "code",
   "execution_count": null,
   "metadata": {},
   "outputs": [],
   "source": [
    "del(l[::2])#deleta os itens saltando de 2 em 2. del(l[star:stop:step])"
   ]
  },
  {
   "cell_type": "code",
   "execution_count": null,
   "metadata": {},
   "outputs": [],
   "source": [
    "l #chama a lista"
   ]
  },
  {
   "cell_type": "code",
   "execution_count": null,
   "metadata": {},
   "outputs": [],
   "source": [
    "#---------------------------------------------------------------------------------------"
   ]
  },
  {
   "cell_type": "code",
   "execution_count": null,
   "metadata": {},
   "outputs": [],
   "source": [
    "lista = list(input(\"Digite uma lista: \"))"
   ]
  },
  {
   "cell_type": "code",
   "execution_count": null,
   "metadata": {},
   "outputs": [],
   "source": [
    "print(40*\"--\")\n",
    "print(lista)\n",
    "print(40*\"--\")\n",
    "print(\"A lista digitada contêm \", len(lista),\"elementos.\")\n",
    "print(40*\"--\")"
   ]
  },
  {
   "cell_type": "code",
   "execution_count": null,
   "metadata": {},
   "outputs": [],
   "source": [
    "inserir = input(\"Digite o item a ser inserido: \")\n",
    "print(40*\"--\")\n",
    "lista.append(inserir)\n",
    "print(lista)"
   ]
  },
  {
   "cell_type": "code",
   "execution_count": null,
   "metadata": {},
   "outputs": [],
   "source": [
    "pos = int(input(\"Digite a posição do elemento: \"))\n",
    "print(40*\"--\")\n",
    "add = input(\"Digite o item a ser acrescentado: \")\n",
    "print(40*\"--\")\n",
    "lista.insert(pos,add)\n",
    "print(lista)"
   ]
  },
  {
   "cell_type": "code",
   "execution_count": null,
   "metadata": {},
   "outputs": [],
   "source": [
    "#--------------------------coisas para testar-------------------------------------------"
   ]
  },
  {
   "cell_type": "code",
   "execution_count": null,
   "metadata": {},
   "outputs": [],
   "source": [
    "for elefante in range(2):\n",
    "    print (elefante**2)"
   ]
  },
  {
   "cell_type": "code",
   "execution_count": null,
   "metadata": {},
   "outputs": [],
   "source": [
    "a = [elefante]\n",
    "for i in range(len(a)):\n",
    "    print (i,a[i])"
   ]
  },
  {
   "cell_type": "code",
   "execution_count": null,
   "metadata": {},
   "outputs": [],
   "source": [
    "for i in range(10):\n",
    "    x = random.random()\n",
    "    print(3x)\n"
   ]
  }
 ],
 "metadata": {
  "kernelspec": {
   "display_name": "Python 3",
   "language": "python",
   "name": "python3"
  },
  "language_info": {
   "codemirror_mode": {
    "name": "ipython",
    "version": 3
   },
   "file_extension": ".py",
   "mimetype": "text/x-python",
   "name": "python",
   "nbconvert_exporter": "python",
   "pygments_lexer": "ipython3",
   "version": "3.7.6"
  }
 },
 "nbformat": 4,
 "nbformat_minor": 2
}