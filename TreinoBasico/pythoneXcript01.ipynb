{
 "cells": [
  {
   "cell_type": "code",
   "execution_count": null,
   "metadata": {},
   "outputs": [],
   "source": [
    "#-*- coding: uft-8 -*-"
   ]
  },
  {
   "cell_type": "code",
   "execution_count": 1,
   "metadata": {
    "tags": []
   },
   "outputs": [
    {
     "output_type": "stream",
     "name": "stdout",
     "text": "Olá mundo !!!\n"
    }
   ],
   "source": [
    "print(\"Olá mundo !!!\") #Fugindo da maldição"
   ]
  },
  {
   "cell_type": "code",
   "execution_count": 2,
   "metadata": {
    "tags": []
   },
   "outputs": [
    {
     "output_type": "stream",
     "name": "stdout",
     "text": "Treinando python\n"
    }
   ],
   "source": [
    "print(\"Treinando python\")#Comando de saída"
   ]
  },
  {
   "cell_type": "code",
   "execution_count": 3,
   "metadata": {
    "tags": []
   },
   "outputs": [
    {
     "output_type": "stream",
     "name": "stdout",
     "text": "oi\ntchau\n"
    }
   ],
   "source": [
    "print(\"oi\");print(\"tchau\");"
   ]
  },
  {
   "cell_type": "code",
   "execution_count": 4,
   "metadata": {},
   "outputs": [],
   "source": [
    "p=10 #Atribuição"
   ]
  },
  {
   "cell_type": "code",
   "execution_count": 5,
   "metadata": {},
   "outputs": [
    {
     "output_type": "execute_result",
     "data": {
      "text/plain": "10"
     },
     "metadata": {},
     "execution_count": 5
    }
   ],
   "source": [
    "p"
   ]
  },
  {
   "cell_type": "code",
   "execution_count": 6,
   "metadata": {},
   "outputs": [],
   "source": [
    "a=2"
   ]
  },
  {
   "cell_type": "code",
   "execution_count": 7,
   "metadata": {},
   "outputs": [
    {
     "output_type": "execute_result",
     "data": {
      "text/plain": "12"
     },
     "metadata": {},
     "execution_count": 7
    }
   ],
   "source": [
    "p+a"
   ]
  },
  {
   "cell_type": "code",
   "execution_count": 8,
   "metadata": {
    "tags": []
   },
   "outputs": [
    {
     "output_type": "stream",
     "name": "stdout",
     "text": "12\n"
    }
   ],
   "source": [
    "print(p+a)"
   ]
  },
  {
   "cell_type": "code",
   "execution_count": 9,
   "metadata": {},
   "outputs": [
    {
     "output_type": "execute_result",
     "data": {
      "text/plain": "int"
     },
     "metadata": {},
     "execution_count": 9
    }
   ],
   "source": [
    "type(a) #Mostra o tipo da variável, função etc..."
   ]
  },
  {
   "cell_type": "code",
   "execution_count": 10,
   "metadata": {
    "scrolled": true
   },
   "outputs": [
    {
     "output_type": "execute_result",
     "data": {
      "text/plain": "['__call__',\n '__class__',\n '__delattr__',\n '__dir__',\n '__doc__',\n '__eq__',\n '__format__',\n '__ge__',\n '__getattribute__',\n '__gt__',\n '__hash__',\n '__init__',\n '__init_subclass__',\n '__le__',\n '__lt__',\n '__module__',\n '__name__',\n '__ne__',\n '__new__',\n '__qualname__',\n '__reduce__',\n '__reduce_ex__',\n '__repr__',\n '__self__',\n '__setattr__',\n '__sizeof__',\n '__str__',\n '__subclasshook__',\n '__text_signature__']"
     },
     "metadata": {},
     "execution_count": 10
    }
   ],
   "source": [
    "dir(print) #Mostra as funções dentro da biblioteca"
   ]
  },
  {
   "cell_type": "code",
   "execution_count": 11,
   "metadata": {},
   "outputs": [],
   "source": [
    "num_int=5\n",
    "num_dec=7.3\n",
    "val_str=\"qualquer texto\""
   ]
  },
  {
   "cell_type": "code",
   "execution_count": 12,
   "metadata": {
    "tags": []
   },
   "outputs": [
    {
     "output_type": "stream",
     "name": "stdout",
     "text": "O valor é: 5\nO valor é: 5\nO valor é: 5\n"
    }
   ],
   "source": [
    "print(\"O valor é:\",num_int) #Tipos de concatenação\n",
    "print(\"O valor é: %i\" %num_int)\n",
    "print(\"O valor é: \" + str(num_int)) "
   ]
  },
  {
   "cell_type": "code",
   "execution_count": 13,
   "metadata": {
    "tags": []
   },
   "outputs": [
    {
     "output_type": "stream",
     "name": "stdout",
     "text": "Concatenando decimal: 7.3\nConcatenando decimal: 7.3000000000\nConcatenando decimal: 7.3\n"
    }
   ],
   "source": [
    "print(\"Concatenando decimal:\", num_dec)\n",
    "print(\"Concatenando decimal: %.10f\" %num_dec)\n",
    "print(\"Concatenando decimal: \" + str(num_dec))"
   ]
  },
  {
   "cell_type": "code",
   "execution_count": 14,
   "metadata": {
    "tags": []
   },
   "outputs": [
    {
     "output_type": "stream",
     "name": "stdout",
     "text": "Concatenando string qualquer texto\nConcatenando string qualquer texto\nConcatenando string qualquer texto\n"
    }
   ],
   "source": [
    "print(\"Concatenando string\", val_str)\n",
    "print(\"Concatenando string %s\" %val_str)\n",
    "print(\"Concatenando string \" + str(val_str))"
   ]
  },
  {
   "cell_type": "code",
   "execution_count": 18,
   "metadata": {},
   "outputs": [],
   "source": [
    "login = input(\"Login: \") #Comando de entrada\n",
    "senha = input(\"Senha: \")"
   ]
  },
  {
   "cell_type": "code",
   "execution_count": 19,
   "metadata": {
    "tags": []
   },
   "outputs": [
    {
     "output_type": "stream",
     "name": "stdout",
     "text": "O usuário informado foi: poxa, e a senha digitada foi: 12345\n"
    }
   ],
   "source": [
    "print(\"O usuário informado foi: %s, e a senha digitada foi: %s\" %(login,senha))"
   ]
  },
  {
   "cell_type": "code",
   "execution_count": 20,
   "metadata": {},
   "outputs": [],
   "source": [
    "#-----------------------------------------------"
   ]
  },
  {
   "cell_type": "code",
   "execution_count": 21,
   "metadata": {
    "tags": []
   },
   "outputs": [
    {
     "output_type": "stream",
     "name": "stdout",
     "text": "\n"
    }
   ],
   "source": [
    "num1 = float(input(\"Digite um número: \"))\n",
    "print()\n",
    "num2 = float(input(\"Digite outro número: \"))"
   ]
  },
  {
   "cell_type": "code",
   "execution_count": 22,
   "metadata": {},
   "outputs": [],
   "source": [
    "div = num1/num2 #Divisão com saída float\n",
    "resto = num1%num2 #Resto divisão"
   ]
  },
  {
   "cell_type": "code",
   "execution_count": 23,
   "metadata": {
    "tags": []
   },
   "outputs": [
    {
     "output_type": "stream",
     "name": "stdout",
     "text": "2.3 dividido por 3.2 é igual a: 0.7187499999999999\nO resto da divisão entre 2.3 e 3.2 é 2.3\n"
    }
   ],
   "source": [
    "print(num1, \"dividido por\", num2, \"é igual a:\",div)\n",
    "print(\"O resto da divisão entre\", num1, \"e\", num2, \"é\", resto)"
   ]
  },
  {
   "cell_type": "code",
   "execution_count": 24,
   "metadata": {},
   "outputs": [],
   "source": [
    "#----------------------------------------------"
   ]
  },
  {
   "cell_type": "code",
   "execution_count": 25,
   "metadata": {},
   "outputs": [],
   "source": [
    "import math #Biblioteca matemática"
   ]
  },
  {
   "cell_type": "code",
   "execution_count": 26,
   "metadata": {},
   "outputs": [
    {
     "output_type": "execute_result",
     "data": {
      "text/plain": "3.141592653589793"
     },
     "metadata": {},
     "execution_count": 26
    }
   ],
   "source": [
    "math.pi"
   ]
  },
  {
   "cell_type": "code",
   "execution_count": 27,
   "metadata": {},
   "outputs": [
    {
     "output_type": "execute_result",
     "data": {
      "text/plain": "['__doc__',\n '__loader__',\n '__name__',\n '__package__',\n '__spec__',\n 'acos',\n 'acosh',\n 'asin',\n 'asinh',\n 'atan',\n 'atan2',\n 'atanh',\n 'ceil',\n 'copysign',\n 'cos',\n 'cosh',\n 'degrees',\n 'e',\n 'erf',\n 'erfc',\n 'exp',\n 'expm1',\n 'fabs',\n 'factorial',\n 'floor',\n 'fmod',\n 'frexp',\n 'fsum',\n 'gamma',\n 'gcd',\n 'hypot',\n 'inf',\n 'isclose',\n 'isfinite',\n 'isinf',\n 'isnan',\n 'ldexp',\n 'lgamma',\n 'log',\n 'log10',\n 'log1p',\n 'log2',\n 'modf',\n 'nan',\n 'pi',\n 'pow',\n 'radians',\n 'remainder',\n 'sin',\n 'sinh',\n 'sqrt',\n 'tan',\n 'tanh',\n 'tau',\n 'trunc']"
     },
     "metadata": {},
     "execution_count": 27
    }
   ],
   "source": [
    "dir(math)"
   ]
  },
  {
   "cell_type": "code",
   "execution_count": 28,
   "metadata": {},
   "outputs": [],
   "source": [
    "#--------------TOMADA DE DECISÃO----------------------------"
   ]
  },
  {
   "cell_type": "code",
   "execution_count": 29,
   "metadata": {},
   "outputs": [],
   "source": [
    "x=int(input(\"Digite um número inteiro: \"))"
   ]
  },
  {
   "cell_type": "code",
   "execution_count": 30,
   "metadata": {
    "tags": []
   },
   "outputs": [
    {
     "output_type": "stream",
     "name": "stdout",
     "text": "9 É menor ou igual a 10!\n"
    }
   ],
   "source": [
    "if (x<=10):\n",
    "    print(x, \"É menor ou igual a 10!\")\n",
    "else:\n",
    "    print(x, \"É maior que 10!\")"
   ]
  },
  {
   "cell_type": "code",
   "execution_count": null,
   "metadata": {},
   "outputs": [],
   "source": [
    "#--------------TOMADA DE DECISÃO----------------------------"
   ]
  },
  {
   "cell_type": "code",
   "execution_count": 31,
   "metadata": {
    "tags": []
   },
   "outputs": [
    {
     "output_type": "stream",
     "name": "stdout",
     "text": "Numero e IMPAR\n"
    }
   ],
   "source": [
    "num = int(input(\"Digite um numero: \"))\n",
    "if (num % 2 == 0):\n",
    "    print(\"Numero e PAR\")\n",
    "else:\n",
    "    print(\"Numero e IMPAR\")"
   ]
  },
  {
   "cell_type": "code",
   "execution_count": 32,
   "metadata": {},
   "outputs": [],
   "source": [
    "#--------------TOMADA DE DECISÃO----------------------------"
   ]
  },
  {
   "cell_type": "code",
   "execution_count": 33,
   "metadata": {},
   "outputs": [],
   "source": [
    "acao = int(input(\"Digite '1' para 'sim' e '2' para 'não':\"))"
   ]
  },
  {
   "cell_type": "code",
   "execution_count": 34,
   "metadata": {
    "tags": []
   },
   "outputs": [
    {
     "output_type": "stream",
     "name": "stdout",
     "text": "Você disse não!\n"
    }
   ],
   "source": [
    "if(acao==1):\n",
    "    print(\"Você disse sim!\")\n",
    "else:\n",
    "    if(acao==2):\n",
    "        print(\"Você disse não!\")\n",
    "    else:\n",
    "        print(\"O número digitado não é '1' e nem '2'!!!\")"
   ]
  },
  {
   "cell_type": "code",
   "execution_count": 35,
   "metadata": {},
   "outputs": [],
   "source": [
    "#------------Operadores comparativos----------------"
   ]
  },
  {
   "cell_type": "code",
   "execution_count": 36,
   "metadata": {},
   "outputs": [],
   "source": [
    "idade=int(input(\"Informe sua idade: \"))"
   ]
  },
  {
   "cell_type": "code",
   "execution_count": 37,
   "metadata": {
    "tags": []
   },
   "outputs": [
    {
     "output_type": "stream",
     "name": "stdout",
     "text": "Você já possui a maior idade!\n"
    }
   ],
   "source": [
    "if(idade <=0):\n",
    "    print(\"Sua idade não pode ser zero ou menor do que zero!\")\n",
    "else:\n",
    "    if(idade > 150):\n",
    "        print(\"Sua idade não pode ser superior a 150 anos!\")\n",
    "    else:\n",
    "        if(idade < 18):\n",
    "            print(\"Você precisa ter mais do que 18 anos!\")\n",
    "        else:\n",
    "            print(\"Você já possui a maior idade!\")"
   ]
  },
  {
   "cell_type": "code",
   "execution_count": null,
   "metadata": {},
   "outputs": [],
   "source": [
    "#-------------------Prática operadores comparativos------"
   ]
  },
  {
   "cell_type": "code",
   "execution_count": 39,
   "metadata": {
    "tags": []
   },
   "outputs": [
    {
     "output_type": "stream",
     "name": "stdout",
     "text": "---------------------------------------------------\n"
    }
   ],
   "source": [
    "numero1 = input(\"Digite um número: \")\n",
    "numero1 = int(numero1)\n",
    "print(\"---------------------------------------------------\")\n",
    "numero2 = input(\"Digite outro número: \")\n",
    "numero2 = int(numero2)"
   ]
  },
  {
   "cell_type": "code",
   "execution_count": 40,
   "metadata": {
    "tags": []
   },
   "outputs": [
    {
     "output_type": "stream",
     "name": "stdout",
     "text": "O número 6 é diferente de 5.\nO número 6 é maior que 5\nO número 6 é maior ou igual que 5\n"
    }
   ],
   "source": [
    "if(numero1 == numero2):#operador de igualdade\n",
    "    print(\"O número %d é igual a %d.\"%(numero1,numero2))\n",
    "if(numero1 != numero2):#operador diferença\n",
    "    print(\"O número %d é diferente de %d.\"%(numero1,numero2))\n",
    "if (numero1 < numero2):#operador menor que\n",
    "    print(\"O número %d é menor que %d\"%(numero1,numero2))\n",
    "if (numero1 > numero2):#operador maior que\n",
    "    print(\"O número %d é maior que %d\"%(numero1,numero2))\n",
    "if (numero1 >= numero2):#operador maior ou igual que\n",
    "    print(\"O número %d é maior ou igual que %d\"%(numero1,numero2))\n",
    "if (numero1 <= numero2):#operador menor ou igual que\n",
    "    print(\"O número %d é menor ou igual que %d\"%(numero1,numero2))"
   ]
  },
  {
   "cell_type": "code",
   "execution_count": null,
   "metadata": {},
   "outputs": [],
   "source": [
    "#--------------------Operadores lógicos---------------------------------"
   ]
  },
  {
   "cell_type": "code",
   "execution_count": 41,
   "metadata": {
    "tags": []
   },
   "outputs": [
    {
     "output_type": "stream",
     "name": "stdout",
     "text": "---------------------------------\n    True and True -> True\n    True and False -> False\n    False and False -> False\n    False and True -> False\n---------------------------------\n"
    }
   ],
   "source": [
    "print(\"---------------------------------\")\n",
    "print(\"    True and True -> True\")\n",
    "print(\"    True and False -> False\")\n",
    "print(\"    False and False -> False\")\n",
    "print(\"    False and True -> False\")\n",
    "print(\"---------------------------------\")"
   ]
  },
  {
   "cell_type": "code",
   "execution_count": 42,
   "metadata": {},
   "outputs": [],
   "source": [
    "a = int(input(\"1 - Escreva 'zero' ou 'um' para verdadeiro ou falso: \")) #verificar algoritimo para tabela verdade\n",
    "b = int(input(\"2 - Escreva 'zero' ou 'um' para verdadeiro ou falso: \"))"
   ]
  },
  {
   "cell_type": "code",
   "execution_count": 43,
   "metadata": {
    "tags": []
   },
   "outputs": [
    {
     "output_type": "stream",
     "name": "stdout",
     "text": "FALSO\n"
    }
   ],
   "source": [
    "if (a == 1 and b == 1):\n",
    "    print(\"VERDADEIRO\")\n",
    "else:\n",
    "    print(\"FALSO\")"
   ]
  },
  {
   "cell_type": "code",
   "execution_count": 44,
   "metadata": {
    "tags": []
   },
   "outputs": [
    {
     "output_type": "stream",
     "name": "stdout",
     "text": "---------------------------------\n    True or True -> True\n    True or False -> True\n    False or False -> False\n    False or True -> True\n---------------------------------\n"
    }
   ],
   "source": [
    "print(\"---------------------------------\")\n",
    "print(\"    True or True -> True\")\n",
    "print(\"    True or False -> True\")\n",
    "print(\"    False or False -> False\")\n",
    "print(\"    False or True -> True\")\n",
    "print(\"---------------------------------\")"
   ]
  },
  {
   "cell_type": "code",
   "execution_count": 45,
   "metadata": {
    "tags": []
   },
   "outputs": [
    {
     "output_type": "stream",
     "name": "stdout",
     "text": "FALSO\n"
    }
   ],
   "source": [
    "if (a == 0 and b == 1) or (a == 1 and b == 0):\n",
    "    print(\"FALSO\")\n",
    "else:\n",
    "    print(\"VERDADEIRO\")"
   ]
  },
  {
   "cell_type": "code",
   "execution_count": null,
   "metadata": {},
   "outputs": [],
   "source": [
    "#-------------Atribuição----------------------------------"
   ]
  },
  {
   "cell_type": "code",
   "execution_count": 52,
   "metadata": {},
   "outputs": [],
   "source": [
    "a = int(input(\"Digite um valor inteiro: \"))\n",
    "b = a #O valor da esquerda recebe o valor da direita"
   ]
  },
  {
   "cell_type": "code",
   "execution_count": 53,
   "metadata": {
    "tags": []
   },
   "outputs": [
    {
     "output_type": "stream",
     "name": "stdout",
     "text": "5 e 5\n"
    }
   ],
   "source": [
    "print(b,'e',a)"
   ]
  },
  {
   "cell_type": "code",
   "execution_count": 54,
   "metadata": {
    "tags": []
   },
   "outputs": [
    {
     "output_type": "stream",
     "name": "stdout",
     "text": "5 , 5 , 5\n"
    }
   ],
   "source": [
    "x = y = z = b #atribuição\n",
    "print(x,\",\",y,\",\",z)"
   ]
  },
  {
   "cell_type": "code",
   "execution_count": 55,
   "metadata": {
    "tags": []
   },
   "outputs": [
    {
     "output_type": "stream",
     "name": "stdout",
     "text": "<class 'bool'>\n"
    }
   ],
   "source": [
    "c = x == y == z # A variável c é do tipo boolena e recebe as igualdades(comparações) das variáveis x, y  e z.\n",
    "print(type(c))"
   ]
  },
  {
   "cell_type": "code",
   "execution_count": null,
   "metadata": {},
   "outputs": [],
   "source": [
    "#-----------------Atribuição (múltipla)--------------------"
   ]
  },
  {
   "cell_type": "code",
   "execution_count": 56,
   "metadata": {
    "tags": []
   },
   "outputs": [
    {
     "output_type": "stream",
     "name": "stdout",
     "text": "Curso de Python!!!\n"
    }
   ],
   "source": [
    "s1, s2 = \"Curso de\",\"Python!!!\"\n",
    "print(s1,s2)"
   ]
  },
  {
   "cell_type": "code",
   "execution_count": 57,
   "metadata": {
    "tags": []
   },
   "outputs": [
    {
     "output_type": "stream",
     "name": "stdout",
     "text": "2 , 4 , 8\n"
    }
   ],
   "source": [
    "r,s,t = 2,4,8\n",
    "print(r,\",\",s,\",\",t)"
   ]
  },
  {
   "cell_type": "code",
   "execution_count": 58,
   "metadata": {
    "tags": []
   },
   "outputs": [
    {
     "output_type": "stream",
     "name": "stdout",
     "text": "4 , 14 , 64\n"
    }
   ],
   "source": [
    "r,s,t = r*2,r+s+t,r*s*t # na atribuição múltipla o python resolve operações matemáticas\n",
    "print(r,\",\",s,\",\",t)"
   ]
  },
  {
   "cell_type": "code",
   "execution_count": null,
   "metadata": {},
   "outputs": [],
   "source": [
    "#----------------Operadores de atribuição-------------------\n",
    "# x +=2 -> soma 2 a x\n",
    "# x -=2 -> subtrai 2 de x\n",
    "# x *=2 -> multiplica 2 por x\n",
    "# x /=2 -> divide x por 2\n",
    "# x %=2 -> volta o resto da divisão de x por 2\n",
    "#-----------------------------------------------------------"
   ]
  },
  {
   "cell_type": "code",
   "execution_count": null,
   "metadata": {},
   "outputs": [],
   "source": [
    "#--------------Atribuição condicional-----------------------"
   ]
  },
  {
   "cell_type": "code",
   "execution_count": 60,
   "metadata": {
    "scrolled": false,
    "tags": []
   },
   "outputs": [
    {
     "output_type": "stream",
     "name": "stdout",
     "text": "Sim!!!\n"
    }
   ],
   "source": [
    "q = int(input(\"Digite um número: \"))\n",
    "texto = \"Sim!!!\" if q == 10 else \"Não!!!\"\n",
    "print(texto)"
   ]
  },
  {
   "cell_type": "code",
   "execution_count": null,
   "metadata": {},
   "outputs": [],
   "source": [
    "#-----------------par ou ímpar------------------------------"
   ]
  },
  {
   "cell_type": "code",
   "execution_count": 61,
   "metadata": {
    "tags": []
   },
   "outputs": [
    {
     "output_type": "stream",
     "name": "stdout",
     "text": "O número digitado é, Ímpar.\n"
    }
   ],
   "source": [
    "num1 = int(input(\"Digite um número: \"))\n",
    "s = \"Par.\" if num1 %2 == 0 else \"Ímpar.\"\n",
    "print(\"O número digitado é,\", s)"
   ]
  },
  {
   "cell_type": "code",
   "execution_count": null,
   "metadata": {},
   "outputs": [],
   "source": [
    "#------Iteração, laços condicionais e looping--------------"
   ]
  },
  {
   "cell_type": "code",
   "execution_count": 62,
   "metadata": {
    "tags": []
   },
   "outputs": [
    {
     "output_type": "stream",
     "name": "stdout",
     "text": "0\n1\n2\n3\n4\n5\n"
    }
   ],
   "source": [
    "x = 0\n",
    "while(x <= 5): #o bloco de instrução será repetido enquanto a condição for verdadeira\n",
    "    print(x)\n",
    "    x += 1"
   ]
  },
  {
   "cell_type": "code",
   "execution_count": null,
   "metadata": {},
   "outputs": [],
   "source": [
    "#-------------------------------------------------------"
   ]
  },
  {
   "cell_type": "code",
   "execution_count": 63,
   "metadata": {},
   "outputs": [
    {
     "output_type": "execute_result",
     "data": {
      "text/plain": "range"
     },
     "metadata": {},
     "execution_count": 63
    }
   ],
   "source": [
    "range(0,10,2)# gerador de lista range(início,fim,passo)\n",
    "type(range(0,10,2))"
   ]
  },
  {
   "cell_type": "code",
   "execution_count": 64,
   "metadata": {},
   "outputs": [
    {
     "output_type": "execute_result",
     "data": {
      "text/plain": "[0, 2, 4, 6, 8]"
     },
     "metadata": {},
     "execution_count": 64
    }
   ],
   "source": [
    "list(range(0,10,2))#no python 3 é preciso converter para lista"
   ]
  },
  {
   "cell_type": "code",
   "execution_count": 65,
   "metadata": {},
   "outputs": [
    {
     "output_type": "execute_result",
     "data": {
      "text/plain": "[100,\n 97,\n 94,\n 91,\n 88,\n 85,\n 82,\n 79,\n 76,\n 73,\n 70,\n 67,\n 64,\n 61,\n 58,\n 55,\n 52,\n 49,\n 46,\n 43,\n 40,\n 37,\n 34,\n 31,\n 28,\n 25,\n 22,\n 19,\n 16,\n 13,\n 10,\n 7,\n 4,\n 1]"
     },
     "metadata": {},
     "execution_count": 65
    }
   ],
   "source": [
    "list(range(100,0,-3))#passo negativo ->ordem decrescente"
   ]
  },
  {
   "cell_type": "code",
   "execution_count": 66,
   "metadata": {
    "tags": []
   },
   "outputs": [
    {
     "output_type": "stream",
     "name": "stdout",
     "text": "0\n1\n2\n3\n4\n5\n6\n7\n8\n9\n"
    }
   ],
   "source": [
    "for i in range(10):#iteração com range\n",
    "    print (i)"
   ]
  },
  {
   "cell_type": "code",
   "execution_count": 67,
   "metadata": {
    "tags": []
   },
   "outputs": [
    {
     "output_type": "stream",
     "name": "stdout",
     "text": "-10\n-9\n-8\n-7\n-6\n-5\n-4\n-3\n-2\n-1\n"
    }
   ],
   "source": [
    "for i in range(-10,0,1): #valores negativos\n",
    "    print(i)"
   ]
  },
  {
   "cell_type": "code",
   "execution_count": 68,
   "metadata": {
    "tags": []
   },
   "outputs": [
    {
     "output_type": "stream",
     "name": "stdout",
     "text": "Antes do laço.\n0\n1\n2\n3\n4\n5\n6\nDepois do laço.\n"
    }
   ],
   "source": [
    "print(\"Antes do laço.\")\n",
    "for item in range(10):\n",
    "    print(item)\n",
    "    if(item==6):\n",
    "        break #break interronpe a execução de um laço de repetição.\n",
    "print(\"Depois do laço.\")"
   ]
  },
  {
   "cell_type": "code",
   "execution_count": null,
   "metadata": {},
   "outputs": [],
   "source": [
    "#--------------Estrutura de dados lista---------------------"
   ]
  },
  {
   "cell_type": "code",
   "execution_count": 69,
   "metadata": {},
   "outputs": [],
   "source": [
    "lista = [1,2,3,4,5,6,7,8]"
   ]
  },
  {
   "cell_type": "code",
   "execution_count": 70,
   "metadata": {
    "tags": []
   },
   "outputs": [
    {
     "output_type": "stream",
     "name": "stdout",
     "text": "[1, 2, 3, 4, 5, 6, 7, 8]\n"
    }
   ],
   "source": [
    "print(lista)"
   ]
  },
  {
   "cell_type": "code",
   "execution_count": 71,
   "metadata": {},
   "outputs": [
    {
     "output_type": "execute_result",
     "data": {
      "text/plain": "list"
     },
     "metadata": {},
     "execution_count": 71
    }
   ],
   "source": [
    "type([])#lista definida por colchete, []-> lista vazia"
   ]
  },
  {
   "cell_type": "code",
   "execution_count": 73,
   "metadata": {},
   "outputs": [],
   "source": [
    "x = [\"Jonatan\", 3, \"Amanda\"]#lista admite elementos de varios tipo"
   ]
  },
  {
   "cell_type": "code",
   "execution_count": 74,
   "metadata": {
    "tags": []
   },
   "outputs": [
    {
     "output_type": "stream",
     "name": "stdout",
     "text": "['Jonatan', 3, 'Amanda']\n"
    }
   ],
   "source": [
    "print(x)"
   ]
  },
  {
   "cell_type": "code",
   "execution_count": 75,
   "metadata": {},
   "outputs": [
    {
     "output_type": "execute_result",
     "data": {
      "text/plain": "3"
     },
     "metadata": {},
     "execution_count": 75
    }
   ],
   "source": [
    "x[1]#[endereço do elemento] indica a posição do elemento na lista, a contagem começa com o indice 0"
   ]
  },
  {
   "cell_type": "code",
   "execution_count": 76,
   "metadata": {},
   "outputs": [],
   "source": [
    "lista1 = list(\"Jonatan\")# objeto interável, o python entende a palavra como uma lista"
   ]
  },
  {
   "cell_type": "code",
   "execution_count": 77,
   "metadata": {
    "tags": []
   },
   "outputs": [
    {
     "output_type": "stream",
     "name": "stdout",
     "text": "['J', 'o', 'n', 'a', 't', 'a', 'n']\n"
    }
   ],
   "source": [
    "print(lista1)"
   ]
  },
  {
   "cell_type": "code",
   "execution_count": 78,
   "metadata": {},
   "outputs": [],
   "source": [
    "lista2 = list((\"Jonatan\",))#lista com um elemento"
   ]
  },
  {
   "cell_type": "code",
   "execution_count": 79,
   "metadata": {
    "tags": []
   },
   "outputs": [
    {
     "output_type": "stream",
     "name": "stdout",
     "text": "['Jonatan']\n"
    }
   ],
   "source": [
    "print(lista2)"
   ]
  },
  {
   "cell_type": "code",
   "execution_count": null,
   "metadata": {},
   "outputs": [],
   "source": [
    "#-----------lista e sub lista--------------------------"
   ]
  },
  {
   "cell_type": "code",
   "execution_count": 80,
   "metadata": {},
   "outputs": [],
   "source": [
    "sublista = [[\"Jonatan\", \"Amanda\", \"Maria\"], [1,2,3], []]#listas em pyhton adimite listas dentro de lista"
   ]
  },
  {
   "cell_type": "code",
   "execution_count": 81,
   "metadata": {},
   "outputs": [
    {
     "output_type": "execute_result",
     "data": {
      "text/plain": "'Amanda'"
     },
     "metadata": {},
     "execution_count": 81
    }
   ],
   "source": [
    "sublista[0][1]#acessa elementos da sub sublista"
   ]
  },
  {
   "cell_type": "code",
   "execution_count": 82,
   "metadata": {
    "tags": []
   },
   "outputs": [
    {
     "output_type": "stream",
     "name": "stdout",
     "text": "Amanda\n"
    }
   ],
   "source": [
    "print(sublista[0][1])"
   ]
  },
  {
   "cell_type": "code",
   "execution_count": 83,
   "metadata": {},
   "outputs": [
    {
     "output_type": "execute_result",
     "data": {
      "text/plain": "7"
     },
     "metadata": {},
     "execution_count": 83
    }
   ],
   "source": [
    "len(\"Jonatan\")#len(objeto) compriento da lista"
   ]
  },
  {
   "cell_type": "code",
   "execution_count": 84,
   "metadata": {},
   "outputs": [
    {
     "output_type": "execute_result",
     "data": {
      "text/plain": "[]"
     },
     "metadata": {},
     "execution_count": 84
    }
   ],
   "source": [
    "sublista[len(sublista)-1]#mostra o último elemento da lista"
   ]
  },
  {
   "cell_type": "code",
   "execution_count": 85,
   "metadata": {},
   "outputs": [],
   "source": [
    "sublista = sublista + [6]#adiciona elemento no final da lista"
   ]
  },
  {
   "cell_type": "code",
   "execution_count": 86,
   "metadata": {},
   "outputs": [
    {
     "output_type": "execute_result",
     "data": {
      "text/plain": "[['Jonatan', 'Amanda', 'Maria'], [1, 2, 3], [], 6]"
     },
     "metadata": {},
     "execution_count": 86
    }
   ],
   "source": [
    "sublista"
   ]
  },
  {
   "cell_type": "code",
   "execution_count": 87,
   "metadata": {},
   "outputs": [],
   "source": [
    "sublista = [0] + sublista#adiciona elemento no início da lista"
   ]
  },
  {
   "cell_type": "code",
   "execution_count": 88,
   "metadata": {},
   "outputs": [
    {
     "output_type": "execute_result",
     "data": {
      "text/plain": "[0, ['Jonatan', 'Amanda', 'Maria'], [1, 2, 3], [], 6]"
     },
     "metadata": {},
     "execution_count": 88
    }
   ],
   "source": [
    "sublista"
   ]
  },
  {
   "cell_type": "code",
   "execution_count": 89,
   "metadata": {},
   "outputs": [],
   "source": [
    "sublista = sublista + [7,8,9,10]#adiciona vários elementos a lista"
   ]
  },
  {
   "cell_type": "code",
   "execution_count": 90,
   "metadata": {},
   "outputs": [
    {
     "output_type": "execute_result",
     "data": {
      "text/plain": "[0, ['Jonatan', 'Amanda', 'Maria'], [1, 2, 3], [], 6, 7, 8, 9, 10]"
     },
     "metadata": {},
     "execution_count": 90
    }
   ],
   "source": [
    "sublista"
   ]
  },
  {
   "cell_type": "code",
   "execution_count": 91,
   "metadata": {},
   "outputs": [],
   "source": [
    "sublista.append(11)#nome_da_lista.append(elemento) adiciona um elemento a lista"
   ]
  },
  {
   "cell_type": "code",
   "execution_count": 92,
   "metadata": {},
   "outputs": [
    {
     "output_type": "execute_result",
     "data": {
      "text/plain": "[0, ['Jonatan', 'Amanda', 'Maria'], [1, 2, 3], [], 6, 7, 8, 9, 10, 11]"
     },
     "metadata": {},
     "execution_count": 92
    }
   ],
   "source": [
    "sublista"
   ]
  },
  {
   "cell_type": "code",
   "execution_count": 93,
   "metadata": {},
   "outputs": [],
   "source": [
    "del(sublista[-1])#deleta o elemento da lista(no caso o ultimo)"
   ]
  },
  {
   "cell_type": "code",
   "execution_count": 94,
   "metadata": {},
   "outputs": [
    {
     "output_type": "execute_result",
     "data": {
      "text/plain": "[0, ['Jonatan', 'Amanda', 'Maria'], [1, 2, 3], [], 6, 7, 8, 9, 10]"
     },
     "metadata": {},
     "execution_count": 94
    }
   ],
   "source": [
    "sublista"
   ]
  },
  {
   "cell_type": "code",
   "execution_count": 95,
   "metadata": {},
   "outputs": [
    {
     "output_type": "execute_result",
     "data": {
      "text/plain": "[0, 0, 0, 0, 0, 0, 0, 0, 0, 0]"
     },
     "metadata": {},
     "execution_count": 95
    }
   ],
   "source": [
    "10*[0]#adiciona elementos do mesmo tipo a uma lista"
   ]
  },
  {
   "cell_type": "code",
   "execution_count": 96,
   "metadata": {},
   "outputs": [],
   "source": [
    "traco = 50*\"-\""
   ]
  },
  {
   "cell_type": "code",
   "execution_count": 97,
   "metadata": {},
   "outputs": [
    {
     "output_type": "execute_result",
     "data": {
      "text/plain": "'--------------------------------------------------'"
     },
     "metadata": {},
     "execution_count": 97
    }
   ],
   "source": [
    "traco"
   ]
  },
  {
   "cell_type": "code",
   "execution_count": null,
   "metadata": {},
   "outputs": [],
   "source": [
    " #-------------Iterando listas----------------"
   ]
  },
  {
   "cell_type": "code",
   "execution_count": null,
   "metadata": {},
   "outputs": [],
   "source": [
    "lista_nums = [100,200,300,400,500,600]\n",
    "for item in lista_nums:\n",
    "    print(item)"
   ]
  },
  {
   "cell_type": "code",
   "execution_count": 98,
   "metadata": {
    "tags": []
   },
   "outputs": [
    {
     "output_type": "stream",
     "name": "stdout",
     "text": "3\n6\n9\n5\n2\n0\n"
    }
   ],
   "source": [
    "a = int(input(\"Digite o número A: \"))\n",
    "b = int(input(\"Digite o número B: \"))\n",
    "c = int(input(\"Digite o número c: \"))\n",
    "d = int(input(\"Digite o número D: \"))\n",
    "e = int(input(\"Digite o número E: \"))\n",
    "f = int(input(\"Digite o número F: \"))\n",
    "lista_nums = [a,b,c,d,e,f]\n",
    "for item in lista_nums:\n",
    "    print(item)"
   ]
  },
  {
   "cell_type": "code",
   "execution_count": 99,
   "metadata": {
    "tags": []
   },
   "outputs": [
    {
     "output_type": "stream",
     "name": "stdout",
     "text": "[1100, 1200, 1300, 1400]\n"
    }
   ],
   "source": [
    "lista_nums = [100,200,300,400]\n",
    "lista_indice = range(0,4) # função range gera lista (0,1,2,3)\n",
    "for item in lista_indice:\n",
    "    lista_nums [item] +=1000 \n",
    "print (lista_nums)"
   ]
  },
  {
   "cell_type": "code",
   "execution_count": null,
   "metadata": {},
   "outputs": [],
   "source": [
    "lista_nums = [100,200,300,400]\n",
    "for item in range(4):# função range gera lista (0,1,2,3) \n",
    "    lista_nums [item] +=1000 \n",
    "print (lista_nums)"
   ]
  },
  {
   "cell_type": "code",
   "execution_count": null,
   "metadata": {},
   "outputs": [],
   "source": [
    "lista_nums = [100,200,300,400,500,600,700,800]\n",
    "for item in range(len(lista_nums)):#função len confere todos elementos da lista\n",
    "    lista_nums [item] +=1000\n",
    "print(lista_nums)"
   ]
  },
  {
   "cell_type": "code",
   "execution_count": null,
   "metadata": {},
   "outputs": [],
   "source": [
    "lista_nums = [100,200,300,400,500,600,700,800]\n",
    "for idx, item in enumerate(lista_nums):#função enumerate associa um indice a cada elemento da lista\n",
    "    lista_nums [idx] +=1000\n",
    "print(lista_nums)"
   ]
  },
  {
   "cell_type": "code",
   "execution_count": null,
   "metadata": {},
   "outputs": [],
   "source": [
    "#-----------FATIANDO LISTA----------------------------"
   ]
  },
  {
   "cell_type": "code",
   "execution_count": null,
   "metadata": {},
   "outputs": [],
   "source": [
    "lista = \"PYTHON\"\n",
    "print(lista)"
   ]
  },
  {
   "cell_type": "code",
   "execution_count": null,
   "metadata": {},
   "outputs": [],
   "source": [
    "print(\"--\",lista[0],\"--\")\n",
    "print(\"--\",lista[:2],\"--\")\n",
    "print(\"--\",lista[2:],\"--\")\n",
    "print(\"--\",lista[::2],\"--\")\n",
    "print(\"--\",lista[2::2],\"--\")\n",
    "print(\"--\",lista[::-1],\"--\")"
   ]
  },
  {
   "cell_type": "code",
   "execution_count": null,
   "metadata": {},
   "outputs": [],
   "source": [
    "#-----------------------------------------------------------"
   ]
  },
  {
   "cell_type": "code",
   "execution_count": null,
   "metadata": {},
   "outputs": [],
   "source": [
    "lista =list(input(\"Digite uma palavras ou frase: \"))\n",
    "print(40*\"--\")\n",
    "print(lista)\n",
    "print(40*\"--\")\n",
    "print(\"A lista digitada contêm \", len(lista),\"elementos.\")\n",
    "print(40*\"--\")"
   ]
  },
  {
   "cell_type": "code",
   "execution_count": null,
   "metadata": {},
   "outputs": [],
   "source": [
    "star = int(input(\"Digite o início da fatia: \"))\n",
    "stop = int(input(\"Digite o fim da fatia: \"))\n",
    "step = int(input(\"Digite tamanho da fatia: \")) #o passo não pode ser zero, mas pode ser negativo\n",
    "print(lista[star:stop:step])"
   ]
  },
  {
   "cell_type": "code",
   "execution_count": null,
   "metadata": {},
   "outputs": [],
   "source": [
    "#---------------------Incluir e deletar itens a uma lista-----------------------------"
   ]
  },
  {
   "cell_type": "code",
   "execution_count": null,
   "metadata": {},
   "outputs": [],
   "source": [
    "l = ['bbb','ccc','ddd']#definição da lista"
   ]
  },
  {
   "cell_type": "code",
   "execution_count": null,
   "metadata": {},
   "outputs": [],
   "source": [
    "l.append('eee') #acrescenta itens no final da lista"
   ]
  },
  {
   "cell_type": "code",
   "execution_count": null,
   "metadata": {},
   "outputs": [],
   "source": [
    "l #chama lista"
   ]
  },
  {
   "cell_type": "code",
   "execution_count": null,
   "metadata": {},
   "outputs": [],
   "source": [
    "l.insert(0,'aaa')#insere item na posição indicada"
   ]
  },
  {
   "cell_type": "code",
   "execution_count": null,
   "metadata": {},
   "outputs": [],
   "source": [
    "l #chama lista"
   ]
  },
  {
   "cell_type": "code",
   "execution_count": null,
   "metadata": {},
   "outputs": [],
   "source": [
    "l[1] = 'BBB' #altera elemento da lista"
   ]
  },
  {
   "cell_type": "code",
   "execution_count": null,
   "metadata": {},
   "outputs": [],
   "source": [
    "l #chama lista"
   ]
  },
  {
   "cell_type": "code",
   "execution_count": null,
   "metadata": {},
   "outputs": [],
   "source": [
    "l.clear() #limpa toda lista"
   ]
  },
  {
   "cell_type": "code",
   "execution_count": null,
   "metadata": {},
   "outputs": [],
   "source": [
    "l #chama lista"
   ]
  },
  {
   "cell_type": "code",
   "execution_count": null,
   "metadata": {},
   "outputs": [],
   "source": [
    "l = ['AAA','BBB','CCC','DDD','EEE','FFF','GGG','HHH','III','JJJ']"
   ]
  },
  {
   "cell_type": "code",
   "execution_count": null,
   "metadata": {},
   "outputs": [],
   "source": [
    "l.pop()#elimina por padrão o ultimo item da lista e, mostra item deletado; l.pop(posição elemento)"
   ]
  },
  {
   "cell_type": "code",
   "execution_count": null,
   "metadata": {},
   "outputs": [],
   "source": [
    "del(l[2:4])#elimina o intervalo indicado"
   ]
  },
  {
   "cell_type": "code",
   "execution_count": null,
   "metadata": {},
   "outputs": [],
   "source": [
    "l #chama lista"
   ]
  },
  {
   "cell_type": "code",
   "execution_count": null,
   "metadata": {},
   "outputs": [],
   "source": [
    "del(l[::2])#deleta os itens saltando de 2 em 2. del(l[star:stop:step])"
   ]
  },
  {
   "cell_type": "code",
   "execution_count": null,
   "metadata": {},
   "outputs": [],
   "source": [
    "l #chama a lista"
   ]
  },
  {
   "cell_type": "code",
   "execution_count": null,
   "metadata": {},
   "outputs": [],
   "source": [
    "#---------------------------------------------------------------------------------------"
   ]
  },
  {
   "cell_type": "code",
   "execution_count": null,
   "metadata": {},
   "outputs": [],
   "source": [
    "lista = list(input(\"Digite uma lista: \"))"
   ]
  },
  {
   "cell_type": "code",
   "execution_count": null,
   "metadata": {},
   "outputs": [],
   "source": [
    "print(40*\"--\")\n",
    "print(lista)\n",
    "print(40*\"--\")\n",
    "print(\"A lista digitada contêm \", len(lista),\"elementos.\")\n",
    "print(40*\"--\")"
   ]
  },
  {
   "cell_type": "code",
   "execution_count": null,
   "metadata": {},
   "outputs": [],
   "source": [
    "inserir = input(\"Digite o item a ser inserido: \")\n",
    "print(40*\"--\")\n",
    "lista.append(inserir)\n",
    "print(lista)"
   ]
  },
  {
   "cell_type": "code",
   "execution_count": null,
   "metadata": {},
   "outputs": [],
   "source": [
    "pos = int(input(\"Digite a posição do elemento: \"))\n",
    "print(40*\"--\")\n",
    "add = input(\"Digite o item a ser acrescentado: \")\n",
    "print(40*\"--\")\n",
    "lista.insert(pos,add)\n",
    "print(lista)"
   ]
  },
  {
   "cell_type": "code",
   "execution_count": null,
   "metadata": {},
   "outputs": [],
   "source": [
    "#---------------------------------------------------------------------"
   ]
  },
  {
   "cell_type": "code",
   "execution_count": null,
   "metadata": {},
   "outputs": [],
   "source": []
  },
  {
   "cell_type": "code",
   "execution_count": null,
   "metadata": {},
   "outputs": [],
   "source": []
  },
  {
   "cell_type": "code",
   "execution_count": null,
   "metadata": {},
   "outputs": [],
   "source": []
  },
  {
   "cell_type": "code",
   "execution_count": null,
   "metadata": {},
   "outputs": [],
   "source": []
  },
  {
   "cell_type": "code",
   "execution_count": null,
   "metadata": {},
   "outputs": [],
   "source": [
    "#--------------------------coisas para testar-------------------------------------------"
   ]
  },
  {
   "cell_type": "code",
   "execution_count": null,
   "metadata": {},
   "outputs": [],
   "source": [
    "for elefante in range(2):\n",
    "    print (elefante**2)"
   ]
  },
  {
   "cell_type": "code",
   "execution_count": null,
   "metadata": {},
   "outputs": [],
   "source": [
    "a = [elefante]\n",
    "for i in range(len(a)):\n",
    "    print (i,a[i])"
   ]
  },
  {
   "cell_type": "code",
   "execution_count": null,
   "metadata": {},
   "outputs": [],
   "source": [
    "for i in range(10):\n",
    "    x = random.random()\n",
    "    print(3x)\n"
   ]
  },
  {
   "cell_type": "code",
   "execution_count": null,
   "metadata": {},
   "outputs": [],
   "source": []
  },
  {
   "cell_type": "code",
   "execution_count": null,
   "metadata": {},
   "outputs": [],
   "source": []
  }
 ],
 "metadata": {
  "kernelspec": {
   "display_name": "Python 3",
   "language": "python",
   "name": "python3"
  },
  "language_info": {
   "codemirror_mode": {
    "name": "ipython",
    "version": 3
   },
   "file_extension": ".py",
   "mimetype": "text/x-python",
   "name": "python",
   "nbconvert_exporter": "python",
   "pygments_lexer": "ipython3",
   "version": "3.7.6"
  }
 },
 "nbformat": 4,
 "nbformat_minor": 2
}